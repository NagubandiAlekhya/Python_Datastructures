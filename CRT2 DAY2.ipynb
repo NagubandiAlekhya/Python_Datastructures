{
 "cells": [
  {
   "cell_type": "markdown",
   "id": "cc60a257",
   "metadata": {},
   "source": [
    "# Linked list "
   ]
  },
  {
   "cell_type": "code",
   "execution_count": 7,
   "id": "82044cee",
   "metadata": {},
   "outputs": [
    {
     "name": "stdout",
     "output_type": "stream",
     "text": [
      "10->20->30->40->50->_____________\n",
      "10->200->30->40->50->"
     ]
    }
   ],
   "source": [
    "#never change the head value in linkedlist\n",
    "class Node:\n",
    "    def __init__(self,value):\n",
    "        self.data=value\n",
    "        self.next=None\n",
    "class LinkedList:\n",
    "    def add_ele_at_start(self,head,value):\n",
    "        new_node=Node(value)\n",
    "        new_node.next=head\n",
    "        head=new_node\n",
    "        return head\n",
    "    def add_element(self,head,value):\n",
    "        new_node=Node(value) #step1\n",
    "        temp=head\n",
    "        while temp.next!=None: #step2\n",
    "            temp=temp.next\n",
    "        temp.next=new_node #step3\n",
    "        #new.node.prev=temp#step4 for DLL\n",
    "    def remove_element(self):\n",
    "        temp=head\n",
    "        while temp.next.next!=None: #step1\n",
    "            temp=temp.next\n",
    "        temp.next=None #step2\n",
    "        #temp.next.prev=None #s2\n",
    "        #temp.next=None #s3 for DLL\n",
    "    def print_list(self,head):\n",
    "        temp=head\n",
    "        while temp!=None:\n",
    "            print(temp.data,end=\"->\")\n",
    "            temp=temp.next\n",
    "    def search_element(self,value):\n",
    "        pass\n",
    "    def reverse(self):\n",
    "        curr=head\n",
    "        prev=None\n",
    "        while curr!=None:\n",
    "            temp=curr.next\n",
    "            curr.next=prev\n",
    "            prev=curr\n",
    "            curr=temp\n",
    "        return prev\n",
    "    def insert(self,head,value,pos):\n",
    "        new_node=Node(value)\n",
    "        curr=head\n",
    "        prev=None\n",
    "        while pos!=0:\n",
    "            prev=curr\n",
    "            curr=curr.next\n",
    "            pos=pos-1\n",
    "            prev.next=new_node\n",
    "            new_node.next=curr\n",
    "            \n",
    "obj=LinkedList()\n",
    "head=Node(10)\n",
    "obj.add_element(head,20)\n",
    "obj.add_element(head,30)\n",
    "obj.add_element(head,40)\n",
    "obj.add_element(head,50)\n",
    "obj.print_list(head)\n",
    "print(\"_____________\")\n",
    "obj.insert(head,200,2) #inserting at a specified position\n",
    "#obj.remove_element()#removing element at last position\n",
    "obj.print_list(head)"
   ]
  },
  {
   "cell_type": "raw",
   "id": "26074ebd",
   "metadata": {},
   "source": [
    "Reverse the Linked List"
   ]
  },
  {
   "cell_type": "code",
   "execution_count": 14,
   "id": "81e22816",
   "metadata": {},
   "outputs": [
    {
     "name": "stdout",
     "output_type": "stream",
     "text": [
      "Given Linked List\n",
      "85 15 4 20 \n",
      "Reversed Linked List\n",
      "20 4 15 85 "
     ]
    }
   ],
   "source": [
    "class Node:\n",
    "    def __init__(self, data):\n",
    "        self.data = data\n",
    "        self.next = None\n",
    "class LinkedList:\n",
    "    def __init__(self):\n",
    "        self.head = None\n",
    "    def reverse(self):\n",
    "        prev = None\n",
    "        current = self.head\n",
    "        while(current is not None):\n",
    "            next = current.next\n",
    "            current.next = prev\n",
    "            prev = current\n",
    "            current = next\n",
    "        self.head = prev\n",
    "    def push(self, new_data):\n",
    "        new_node = Node(new_data)\n",
    "        new_node.next = self.head\n",
    "        self.head = new_node\n",
    "    def printList(self):\n",
    "        temp = self.head\n",
    "        while(temp):\n",
    "            print (temp.data,end=\" \")\n",
    "            temp = temp.next\n",
    "\n",
    "llist = LinkedList()\n",
    "llist.push(20)\n",
    "llist.push(4)\n",
    "llist.push(15)\n",
    "llist.push(85)\n",
    "print (\"Given Linked List\")\n",
    "llist.printList()\n",
    "llist.reverse()\n",
    "print (\"\\nReversed Linked List\")\n",
    "llist.printList()"
   ]
  },
  {
   "cell_type": "code",
   "execution_count": null,
   "id": "e628d899",
   "metadata": {},
   "outputs": [],
   "source": []
  }
 ],
 "metadata": {
  "kernelspec": {
   "display_name": "Python 3 (ipykernel)",
   "language": "python",
   "name": "python3"
  },
  "language_info": {
   "codemirror_mode": {
    "name": "ipython",
    "version": 3
   },
   "file_extension": ".py",
   "mimetype": "text/x-python",
   "name": "python",
   "nbconvert_exporter": "python",
   "pygments_lexer": "ipython3",
   "version": "3.9.7"
  }
 },
 "nbformat": 4,
 "nbformat_minor": 5
}
