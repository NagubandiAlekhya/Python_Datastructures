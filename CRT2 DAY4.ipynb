{
 "cells": [
  {
   "cell_type": "markdown",
   "id": "32504634",
   "metadata": {},
   "source": [
    "# TREES"
   ]
  },
  {
   "cell_type": "code",
   "execution_count": 13,
   "id": "1c7f4198",
   "metadata": {},
   "outputs": [
    {
     "name": "stdout",
     "output_type": "stream",
     "text": [
      "<__main__.Node object at 0x0000021D5F574100>\n",
      "element found\n"
     ]
    }
   ],
   "source": [
    "class Node:\n",
    "    def __init__(self,value):\n",
    "        self.data=value\n",
    "        self.left=None\n",
    "        self.right=None\n",
    "class BSTree:\n",
    "    def add_element(self,root,value):\n",
    "        new_node=Node(value)\n",
    "        if new_node.data<root.data:\n",
    "            if root.left!=None:\n",
    "                self.add_element(root.left,value)\n",
    "            else:\n",
    "                root.left=new_node\n",
    "        else:\n",
    "            if root.right!=None:\n",
    "                self.add_element(root.right,value)\n",
    "            else:\n",
    "                root.right=new_node\n",
    "    def inorder(self,root):\n",
    "        if root.left!=None:\n",
    "            self.inorder(root.left)\n",
    "        print(root.data,end=\" \")\n",
    "        if root.right!=None:\n",
    "            self.inorder(root.right)\n",
    "    def preorder(self,root):\n",
    "        if root.data==value:\n",
    "            print(root.data,end=\" \")\n",
    "        if root.left!=None:\n",
    "            self.preorder(root.left)\n",
    "        if root.right!=None:\n",
    "            self.preorder(root.right)\n",
    "    def postorder(self,root):\n",
    "        if root.left!=None:\n",
    "            self.postorder(root.left)\n",
    "        if root.right!=None:\n",
    "            self.postorder(root.right)\n",
    "        print(root.data,end=\" \")\n",
    "    def levelorder(sef,root):\n",
    "        pass\n",
    "    def tree_height(self,root):\n",
    "        pass\n",
    "    def search(self,root,value):\n",
    "        if root.data==value:\n",
    "            #print(\"element found\")\n",
    "            return root\n",
    "        if value<root.data and root.left!=None:\n",
    "            return self.search(root.left,value)\n",
    "        if value>root.data and root.right!=None:\n",
    "            return self.search(root.right,value)\n",
    "        return False\n",
    "ob=BSTree()\n",
    "root=Node(10)\n",
    "ob.add_element(root,7)\n",
    "ob.add_element(root,40)\n",
    "ob.add_element(root,5)\n",
    "ob.add_element(root,9)\n",
    "ob.add_element(root,15)\n",
    "ob.add_element(root,60)\n",
    "print(ob.search(root,15))\n",
    "if ob.search(root,15):\n",
    "    print(\"element found\")\n",
    "else:\n",
    "    print(\"element not found\")"
   ]
  },
  {
   "cell_type": "code",
   "execution_count": 37,
   "id": "409e37bc",
   "metadata": {},
   "outputs": [
    {
     "name": "stdout",
     "output_type": "stream",
     "text": [
      "<__main__.Node object at 0x0000021D5F5226A0>\n",
      "element found\n"
     ]
    }
   ],
   "source": [
    "class Node:\n",
    "    def __init__(self,value):\n",
    "        self.data=value\n",
    "        self.left=None\n",
    "        self.right=None\n",
    "class BSTree:\n",
    "    def add_element(self,root,value):\n",
    "        new_node=Node(value)\n",
    "        if new_node.data<root.data:\n",
    "            if root.left!=None:\n",
    "                self.add_element(root.left,value)\n",
    "            else:\n",
    "                root.left=new_node\n",
    "        else:\n",
    "            if root.right!=None:\n",
    "                self.add_element(root.right,value)\n",
    "            else:\n",
    "                root.right=new_node\n",
    "    def inorder(self,root):\n",
    "        if root.left!=None:\n",
    "            self.inorder(root.left)\n",
    "        print(root.data,end=\" \")\n",
    "        if root.right!=None:\n",
    "            self.inorder(root.right)\n",
    "    def preorder(self,root):\n",
    "        if root.data==value:\n",
    "            print(root.data,end=\" \")\n",
    "        if root.left!=None:\n",
    "            self.preorder(root.left)\n",
    "        if root.right!=None:\n",
    "            self.preorder(root.right)\n",
    "    def postorder(self,root):\n",
    "        if root.left!=None:\n",
    "            self.postorder(root.left)\n",
    "        if root.right!=None:\n",
    "            self.postorder(root.right)\n",
    "        print(root.data,end=\" \")\n",
    "    def levelorder(sef,root):\n",
    "        pass\n",
    "    def tree_height(self,root):\n",
    "        pass\n",
    "    def search(self,root,value):\n",
    "        if root.data==value:\n",
    "            #print(\"element found\")\n",
    "            return root\n",
    "        if value<root.data and root.left!=None:\n",
    "            return self.search(root.left,value)\n",
    "        if value>root.data and root.right!=None:\n",
    "            return self.search(root.right,value)\n",
    "        return False\n",
    "ob=BSTree()\n",
    "root=Node(1)\n",
    "ob.add_element(root,2)\n",
    "ob.add_element(root,4)\n",
    "ob.add_element(root,5)\n",
    "ob.add_element(root,9)\n",
    "ob.add_element(root,7)\n",
    "ob.add_element(root,6)\n",
    "print(ob.search(root,20))\n",
    "if ob.search(root,20):\n",
    "    print(\"element found\")\n",
    "else:\n",
    "    print(\"element not found\")"
   ]
  },
  {
   "cell_type": "raw",
   "id": "19c85f34",
   "metadata": {},
   "source": [
    "Find the sum of elements in left subtree and right subtree and print the values of them"
   ]
  },
  {
   "cell_type": "code",
   "execution_count": 38,
   "id": "517bd23c",
   "metadata": {},
   "outputs": [
    {
     "name": "stdout",
     "output_type": "stream",
     "text": [
      "146\n",
      "115\n",
      "21\n"
     ]
    }
   ],
   "source": [
    "class Node:\n",
    "    def __init__(self,value):\n",
    "        self.data=value\n",
    "        self.left=None\n",
    "        self.right=None\n",
    "class BSTree:\n",
    "    def add_element(self,root,value):\n",
    "        new_node=Node(value)\n",
    "        if new_node.data<root.data:\n",
    "            if root.left!=None:\n",
    "                self.add_element(root.left,value)\n",
    "            else:\n",
    "                root.left=new_node\n",
    "        else:\n",
    "            if root.right!=None:\n",
    "                self.add_element(root.right,value)\n",
    "            else:\n",
    "                root.right=new_node\n",
    "    def inorder(self,root):\n",
    "        if root.left!=None:\n",
    "            self.inorder(root.left)\n",
    "        print(root.data,end=\" \")\n",
    "        if root.right!=None:\n",
    "            self.inorder(root.right)\n",
    "    def preorder(self,root):\n",
    "        if root.data==value:\n",
    "            print(root.data,end=\" \")\n",
    "        if root.left!=None:\n",
    "            self.preorder(root.left)\n",
    "        if root.right!=None:\n",
    "            self.preorder(root.right)\n",
    "    def postorder(self,root):\n",
    "        if root.left!=None:\n",
    "            self.postorder(root.left)\n",
    "        if root.right!=None:\n",
    "            self.postorder(root.right)\n",
    "        print(root.data,end=\" \")\n",
    "    def levelorder(sef,root):\n",
    "        pass\n",
    "    def tree_height(self,root):\n",
    "        pass\n",
    "    def search(self,root,value):\n",
    "        if root.data==value:\n",
    "            return root\n",
    "        if value<root.data and root.left!=None:\n",
    "            return self.search(root.left,value)\n",
    "        if value>root.data and root.right!=None:\n",
    "            return self.search(root.right,value)\n",
    "        return False\n",
    "    def sum(self,root):\n",
    "        sum=root.data\n",
    "        if root.left!=None:\n",
    "            sum+=self.sum(root.left)\n",
    "        if root.right!=None:\n",
    "            sum+=self.sum(root.right)\n",
    "        return sum\n",
    "ob=BSTree()\n",
    "root=Node(10)\n",
    "ob.add_element(root,7)\n",
    "ob.add_element(root,40)\n",
    "ob.add_element(root,5)\n",
    "ob.add_element(root,9)\n",
    "ob.add_element(root,15)\n",
    "ob.add_element(root,60)\n",
    "print(ob.sum(root))\n",
    "print(ob.sum(root.right))\n",
    "print(ob.sum(root.left))"
   ]
  },
  {
   "cell_type": "raw",
   "id": "083962d1",
   "metadata": {},
   "source": [
    "Find Height of the Tree"
   ]
  },
  {
   "cell_type": "code",
   "execution_count": 44,
   "id": "5dbee930",
   "metadata": {},
   "outputs": [
    {
     "data": {
      "text/plain": [
       "2"
      ]
     },
     "execution_count": 44,
     "metadata": {},
     "output_type": "execute_result"
    }
   ],
   "source": [
    "class Node:\n",
    "    def __init__(self,value):\n",
    "        self.data=value\n",
    "        self.left=None\n",
    "        self.right=None\n",
    "class BSTree:\n",
    "    def add_element(self,root,value):\n",
    "        new_node=Node(value)\n",
    "        if new_node.data<root.data:\n",
    "            if root.left!=None:\n",
    "                self.add_element(root.left,value)\n",
    "            else:\n",
    "                root.left=new_node\n",
    "        else:\n",
    "            if root.right!=None:\n",
    "                self.add_element(root.right,value)\n",
    "            else:\n",
    "                root.right=new_node\n",
    "    def inorder(self,root):\n",
    "        if root.left!=None:\n",
    "            self.inorder(root.left)\n",
    "        print(root.data,end=\" \")\n",
    "        if root.right!=None:\n",
    "            self.inorder(root.right)\n",
    "    def preorder(self,root):\n",
    "        if root.data==value:\n",
    "            print(root.data,end=\" \")\n",
    "        if root.left!=None:\n",
    "            self.preorder(root.left)\n",
    "        if root.right!=None:\n",
    "            self.preorder(root.right)\n",
    "    def postorder(self,root):\n",
    "        if root.left!=None:\n",
    "            self.postorder(root.left)\n",
    "        if root.right!=None:\n",
    "            self.postorder(root.right)\n",
    "        print(root.data,end=\" \")\n",
    "    def levelorder(sef,root):\n",
    "        pass\n",
    "    def tree_height(self,root):\n",
    "        if root==None:\n",
    "            return -1\n",
    "        left_height=self.tree_height(root.left)\n",
    "        right_height=self.tree_height(root.right)\n",
    "        return 1+max(left_height,right_height)\n",
    "    def search(self,root,value):\n",
    "        if root.data==value:\n",
    "            return root\n",
    "        if value<root.data and root.left!=None:\n",
    "            return self.search(root.left,value)\n",
    "        if value>root.data and root.right!=None:\n",
    "            return self.search(root.right,value)\n",
    "        return False\n",
    "    def sum(self,root):\n",
    "        sum=root.data\n",
    "        if root.left!=None:\n",
    "            sum+=self.sum(root.left)\n",
    "        if root.right!=None:\n",
    "            sum+=self.sum(root.right)\n",
    "        return sum\n",
    "ob=BSTree()\n",
    "root=Node(10)\n",
    "ob.add_element(root,7)\n",
    "ob.add_element(root,40)\n",
    "ob.add_element(root,5)\n",
    "ob.add_element(root,9)\n",
    "ob.add_element(root,15)\n",
    "ob.add_element(root,60)\n",
    "ob.tree_height(root)"
   ]
  },
  {
   "cell_type": "code",
   "execution_count": 1,
   "id": "8f7af14a",
   "metadata": {},
   "outputs": [
    {
     "data": {
      "text/plain": [
       "3"
      ]
     },
     "execution_count": 1,
     "metadata": {},
     "output_type": "execute_result"
    }
   ],
   "source": [
    "class Node:\n",
    "    def __init__(self,value):\n",
    "        self.data=value\n",
    "        self.left=None\n",
    "        self.right=None\n",
    "class BSTree:\n",
    "    def add_element(self,root,value):\n",
    "        new_node=Node(value)\n",
    "        if new_node.data<root.data:\n",
    "            if root.left!=None:\n",
    "                self.add_element(root.left,value)\n",
    "            else:\n",
    "                root.left=new_node\n",
    "        else:\n",
    "            if root.right!=None:\n",
    "                self.add_element(root.right,value)\n",
    "            else:\n",
    "                root.right=new_node\n",
    "    def inorder(self,root):\n",
    "        if root.left!=None:\n",
    "            self.inorder(root.left)\n",
    "        print(root.data,end=\" \")\n",
    "        if root.right!=None:\n",
    "            self.inorder(root.right)\n",
    "    def preorder(self,root):\n",
    "        if root.data==value:\n",
    "            print(root.data,end=\" \")\n",
    "        if root.left!=None:\n",
    "            self.preorder(root.left)\n",
    "        if root.right!=None:\n",
    "            self.preorder(root.right)\n",
    "    def postorder(self,root):\n",
    "        if root.left!=None:\n",
    "            self.postorder(root.left)\n",
    "        if root.right!=None:\n",
    "            self.postorder(root.right)\n",
    "        print(root.data,end=\" \")\n",
    "    def levelorder(sef,root):\n",
    "        lst=[]\n",
    "        lst.append(root)\n",
    "        while len(lst)!=0:\n",
    "            ele=lst.pop(0)\n",
    "            print(ele.data,end=\" \")\n",
    "            if ele.left:\n",
    "                lst.append(ele.left)\n",
    "            if ele.right:\n",
    "                lst.append(ele.right)\n",
    "            if root.left==None and root.right==None:\n",
    "                self.levelorder(root.left)\n",
    "                self.levelorder(root.right)\n",
    "    def tree_height(self,root):\n",
    "        if root==None:\n",
    "            return -1\n",
    "        left_height=self.tree_height(root.left)\n",
    "        right_height=self.tree_height(root.right)\n",
    "        return 1+max(left_height,right_height)\n",
    "    def search(self,root,value):\n",
    "        if root.data==value:\n",
    "            return root\n",
    "        if value<root.data and root.left!=None:\n",
    "            return self.search(root.left,value)\n",
    "        if value>root.data and root.right!=None:\n",
    "            return self.search(root.right,value)\n",
    "        return False\n",
    "    def sum(self,root):\n",
    "        sum=root.data\n",
    "        if root.left!=None:\n",
    "            sum+=self.sum(root.left)\n",
    "        if root.right!=None:\n",
    "            sum+=self.sum(root.right)\n",
    "        return sum\n",
    "ob=BSTree()\n",
    "root=Node(10)\n",
    "ob.add_element(root,7)\n",
    "ob.add_element(root,40)\n",
    "ob.add_element(root,5)\n",
    "ob.add_element(root,9)\n",
    "ob.add_element(root,8)\n",
    "ob.add_element(root,15)\n",
    "ob.add_element(root,60)\n",
    "ob.tree_height(root)"
   ]
  },
  {
   "cell_type": "markdown",
   "id": "dc753fd2",
   "metadata": {},
   "source": [
    "# SORTING TECHNIQUES"
   ]
  },
  {
   "cell_type": "markdown",
   "id": "8fa4722a",
   "metadata": {},
   "source": [
    "# Selection Sort "
   ]
  },
  {
   "cell_type": "code",
   "execution_count": 12,
   "id": "6edc2cd7",
   "metadata": {},
   "outputs": [
    {
     "name": "stdout",
     "output_type": "stream",
     "text": [
      "array before sorting [1, -6, 2, 8, 3, 40, 92, 27, -5, 65]\n",
      "array after sorting [-6, -5, 1, 2, 3, 8, 27, 40, 65, 92]\n"
     ]
    }
   ],
   "source": [
    "def selectionsort(arr,size):\n",
    "    for i in range(size):\n",
    "        min_index=i\n",
    "        for j in range(i+1,size):\n",
    "            if arr[j]<arr[min_index]:\n",
    "                min_index=j\n",
    "        (arr[i],arr[min_index])=(arr[min_index],arr[i])\n",
    "l=[1,-6,2,8,3,40,92,27,-5,65]\n",
    "print(\"array before sorting\",l)\n",
    "size=len(l)\n",
    "selectionsort(l,size)\n",
    "print(\"array after sorting\",l)"
   ]
  },
  {
   "cell_type": "code",
   "execution_count": 2,
   "id": "6a9d51e1",
   "metadata": {},
   "outputs": [
    {
     "name": "stdout",
     "output_type": "stream",
     "text": [
      "array before sorting [1, -6, 2, 8, 3, 40, 92, 27, -5, 65]\n",
      "array after sorting [-6, -5, 1, 2, 3, 8, 27, 40, 65, 92]\n"
     ]
    }
   ],
   "source": [
    "def selectionsort(arr):\n",
    "    for i in range(len(arr)):\n",
    "        min_index=i\n",
    "        for j in range(i+1,len(arr)):\n",
    "            if arr[j]<arr[min_index]:\n",
    "                min_index=j\n",
    "        (arr[i],arr[min_index])=(arr[min_index],arr[i])\n",
    "    return arr\n",
    "arr=[1,-6,2,8,3,40,92,27,-5,65]\n",
    "print(\"array before sorting\",arr)\n",
    "selectionsort(arr)\n",
    "print(\"array after sorting\",arr)"
   ]
  },
  {
   "cell_type": "raw",
   "id": "4f44db0a",
   "metadata": {},
   "source": [
    "Implementation of selection sort with input as characters(alphabets)"
   ]
  },
  {
   "cell_type": "markdown",
   "id": "3ac70191",
   "metadata": {},
   "source": [
    "# Insertion Sort"
   ]
  },
  {
   "cell_type": "code",
   "execution_count": 16,
   "id": "fd001346",
   "metadata": {},
   "outputs": [
    {
     "name": "stdout",
     "output_type": "stream",
     "text": [
      "[5, 7, 2, 23, 21, 1, 6, 45]\n",
      "[1, 2, 5, 6, 7, 21, 23, 45]\n"
     ]
    }
   ],
   "source": [
    "def insertionsort(arr):\n",
    "    for i in range(1,len(arr)):\n",
    "        j=i\n",
    "        while arr[j-1]>arr[j] and j>0:\n",
    "            arr[j-1],arr[j]=arr[j],arr[j-1]\n",
    "            j-=1\n",
    "    return arr\n",
    "arr=[5,7,2,23,21,1,6,45]\n",
    "print(arr)\n",
    "print(insertionsort(arr))"
   ]
  },
  {
   "cell_type": "raw",
   "id": "f627ec1b",
   "metadata": {},
   "source": [
    "Implementation of Insertion sort with input as alphabets"
   ]
  },
  {
   "cell_type": "markdown",
   "id": "86c1eb17",
   "metadata": {},
   "source": [
    "# Bubble Sort"
   ]
  },
  {
   "cell_type": "raw",
   "id": "7ce5c768",
   "metadata": {},
   "source": [
    "arr=[\n",
    "    [1,2],\n",
    "    [3,4],\n",
    "    [2,1],\n",
    "    [56,3]\n",
    "]"
   ]
  },
  {
   "cell_type": "code",
   "execution_count": 37,
   "id": "e994e163",
   "metadata": {},
   "outputs": [
    {
     "name": "stdout",
     "output_type": "stream",
     "text": [
      "[5, 7, 2, 23, 21, 1, 6, 45]\n",
      "[5, 2, 1, 6, 7, 21, 23, 45]\n"
     ]
    }
   ],
   "source": [
    "def bubblesort(arr):\n",
    "    for i in range(len(arr)-1):\n",
    "        for j in range(i+1,len(arr)-1):\n",
    "            if arr[j]>arr[j+1]:\n",
    "                arr[j],arr[j+1]=arr[j+1],arr[j]\n",
    "    return arr\n",
    "arr=[5,7,2,23,21,1,6,45]\n",
    "print(arr)\n",
    "print(bubblesort(arr))"
   ]
  },
  {
   "cell_type": "code",
   "execution_count": 22,
   "id": "f844c203",
   "metadata": {},
   "outputs": [
    {
     "name": "stdout",
     "output_type": "stream",
     "text": [
      "[5, 7, 2, 23, 21, 1, 6, 45]\n",
      "[1, 2, 5, 6, 7, 21, 23, 45]\n"
     ]
    }
   ],
   "source": [
    "def bubblesort(arr):\n",
    "    for i in range(len(arr)-1):\n",
    "        swap=False\n",
    "        for j in range(len(arr)-1-i):\n",
    "            if arr[j]>arr[j+1]:\n",
    "                swap=True\n",
    "                arr[j],arr[j+1]=arr[j+1],arr[j]\n",
    "        if  swap==False:\n",
    "            break\n",
    "    return arr\n",
    "arr=[5,7,2,23,21,1,6,45]\n",
    "print(arr)\n",
    "print(bubblesort(arr))"
   ]
  },
  {
   "cell_type": "code",
   "execution_count": 24,
   "id": "0fcf76d3",
   "metadata": {},
   "outputs": [
    {
     "name": "stdout",
     "output_type": "stream",
     "text": [
      "[[1, 2], [3, 4], [2, 1], [56, 3]]\n",
      "[[1, 2], [2, 1], [3, 4], [56, 3]]\n"
     ]
    }
   ],
   "source": [
    "def bubblesort(arr):\n",
    "    for i in range(len(arr)-1):\n",
    "        swap=False\n",
    "        for j in range(len(arr)-1-i):\n",
    "            if arr[j]>arr[j+1]:\n",
    "                swap=True\n",
    "                arr[j],arr[j+1]=arr[j+1],arr[j]\n",
    "        if  swap==False:\n",
    "            break\n",
    "    return arr\n",
    "arr=[\n",
    "    [1,2],\n",
    "    [3,4],\n",
    "    [2,1],\n",
    "    [56,3]\n",
    "]\n",
    "print(arr)\n",
    "print(bubblesort(arr))"
   ]
  },
  {
   "cell_type": "raw",
   "id": "a4c2c683",
   "metadata": {},
   "source": [
    "arranging in decending order"
   ]
  },
  {
   "cell_type": "code",
   "execution_count": 25,
   "id": "093b2006",
   "metadata": {},
   "outputs": [
    {
     "name": "stdout",
     "output_type": "stream",
     "text": [
      "[[1, 2], [3, 4], [2, 1], [56, 3]]\n",
      "[[56, 3], [3, 4], [2, 1], [1, 2]]\n"
     ]
    }
   ],
   "source": [
    "def bubblesort(arr):\n",
    "    for i in range(len(arr)-1):\n",
    "        swap=False\n",
    "        for j in range(len(arr)-1-i):\n",
    "            if arr[j]<arr[j+1]:\n",
    "                swap=True\n",
    "                arr[j],arr[j+1]=arr[j+1],arr[j]\n",
    "        if  swap==False:\n",
    "            break\n",
    "    return arr\n",
    "arr=[\n",
    "    [1,2],\n",
    "    [3,4],\n",
    "    [2,1],\n",
    "    [56,3]\n",
    "]\n",
    "print(arr)\n",
    "print(bubblesort(arr))"
   ]
  },
  {
   "cell_type": "raw",
   "id": "f6276b1a",
   "metadata": {},
   "source": [
    "arranging in ascending order according to second element in the subarrays of mainarray"
   ]
  },
  {
   "cell_type": "code",
   "execution_count": 31,
   "id": "597e675d",
   "metadata": {},
   "outputs": [
    {
     "name": "stdout",
     "output_type": "stream",
     "text": [
      "[[1, 2], [3, 4], [2, 1], [56, 3]]\n",
      "[[2, 1], [1, 2], [56, 3], [3, 4]]\n"
     ]
    }
   ],
   "source": [
    "def bubblesort(arr):\n",
    "    for i in range(len(arr)-1):\n",
    "        swap=False\n",
    "        for j in range(len(arr)-1-i):\n",
    "            if arr[j][1]>arr[j+1][1]:\n",
    "                swap=True\n",
    "                arr[j],arr[j+1]=arr[j+1],arr[j]\n",
    "        if  swap==False:\n",
    "            break\n",
    "    return arr\n",
    "arr=[\n",
    "    [1,2],\n",
    "    [3,4],\n",
    "    [2,1],\n",
    "    [56,3]\n",
    "]\n",
    "print(arr)\n",
    "print(bubblesort(arr))"
   ]
  }
 ],
 "metadata": {
  "kernelspec": {
   "display_name": "Python 3 (ipykernel)",
   "language": "python",
   "name": "python3"
  },
  "language_info": {
   "codemirror_mode": {
    "name": "ipython",
    "version": 3
   },
   "file_extension": ".py",
   "mimetype": "text/x-python",
   "name": "python",
   "nbconvert_exporter": "python",
   "pygments_lexer": "ipython3",
   "version": "3.9.7"
  }
 },
 "nbformat": 4,
 "nbformat_minor": 5
}
