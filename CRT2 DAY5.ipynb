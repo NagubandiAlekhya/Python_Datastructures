{
 "cells": [
  {
   "cell_type": "markdown",
   "id": "6488775d",
   "metadata": {},
   "source": [
    "# Merge Sort"
   ]
  },
  {
   "cell_type": "code",
   "execution_count": 4,
   "id": "8f6d1e62",
   "metadata": {},
   "outputs": [
    {
     "name": "stdout",
     "output_type": "stream",
     "text": [
      "Sorted array is: \n",
      "1 5 6 9 10 12 \n"
     ]
    }
   ],
   "source": [
    "def mergeSort(array):\n",
    "    if len(array) > 1:\n",
    "        r = len(array)//2\n",
    "        L = array[:r]\n",
    "        M = array[r:]\n",
    "        mergeSort(L)\n",
    "        mergeSort(M)\n",
    "        i = j = k = 0\n",
    "        while i < len(L) and j < len(M):\n",
    "            if L[i] < M[j]:\n",
    "                array[k] = L[i]\n",
    "                i += 1\n",
    "            else:\n",
    "                array[k] = M[j]\n",
    "                j += 1\n",
    "            k += 1\n",
    "        while i < len(L):\n",
    "            array[k] = L[i]\n",
    "            i += 1\n",
    "            k += 1\n",
    "        while j < len(M):\n",
    "            array[k] = M[j]\n",
    "            j += 1\n",
    "            k += 1\n",
    "\n",
    "def printList(array):\n",
    "    for i in range(len(array)):\n",
    "        print(array[i], end=\" \")\n",
    "    print()\n",
    "\n",
    "if __name__ == '__main__':\n",
    "    array = [6, 5, 12, 10, 9, 1]\n",
    "\n",
    "    mergeSort(array)\n",
    "\n",
    "    print(\"Sorted array is: \")\n",
    "    printList(array)"
   ]
  },
  {
   "cell_type": "markdown",
   "id": "b1458059",
   "metadata": {},
   "source": [
    "# Quick Sort"
   ]
  },
  {
   "cell_type": "code",
   "execution_count": 23,
   "id": "19675785",
   "metadata": {},
   "outputs": [
    {
     "name": "stdout",
     "output_type": "stream",
     "text": [
      "[30, 90, 50, 40, 10, 20]\n",
      "[10, 20, 30, 40, 50, 90]\n"
     ]
    }
   ],
   "source": [
    "def quick_sort(arr):\n",
    "    if len(arr)<=1:\n",
    "        return arr\n",
    "    pivot=arr[0]\n",
    "    left_arr=[i for i in arr[1:] if i<=pivot]\n",
    "    right_arr=[i for i in arr[1:] if i>pivot]\n",
    "    #print(left_arr)\n",
    "    #print(right_arr)      \n",
    "    return quick_sort(left_arr)+[pivot]+quick_sort(right_arr)\n",
    "    \n",
    "arr=[30,90,50,40,10,20]\n",
    "print(arr)\n",
    "res=quick_sort(arr)\n",
    "print(res)"
   ]
  },
  {
   "cell_type": "markdown",
   "id": "b2760174",
   "metadata": {},
   "source": [
    "# GRAPHS"
   ]
  },
  {
   "cell_type": "raw",
   "id": "efb4a814",
   "metadata": {},
   "source": [
    "BFS"
   ]
  },
  {
   "cell_type": "code",
   "execution_count": null,
   "id": "fcb9e715",
   "metadata": {},
   "outputs": [],
   "source": [
    "def BFS(graph,start):\n",
    "    q=[start]\n",
    "    visited=[]\n",
    "    while len(q)!=0:\n",
    "        ele=q.pop(0)\n",
    "        print(ele)\n",
    "        for i in graph[ele]:\n",
    "            q.append(i)\n",
    "            visited.append(i)\n",
    "            \n",
    "        \n",
    "graph_elements={\n",
    "    \"a\":[\"b\",\"c\"]\n",
    "    \"b\":[\"a\",\"d\"]\n",
    "    \"c\":[\"a\",\"d\"]\n",
    "    \"d\":[\"e\"]\n",
    "    \"e\":[\"d\"]\n",
    "}    \n",
    "BFS(graph_elements,\"c\")"
   ]
  },
  {
   "cell_type": "code",
   "execution_count": 1,
   "id": "01e40c21",
   "metadata": {},
   "outputs": [
    {
     "name": "stdout",
     "output_type": "stream",
     "text": [
      "c\n",
      "a\n",
      "d\n",
      "b\n",
      "c\n",
      "e\n"
     ]
    }
   ],
   "source": [
    "def BFS(graph,start):\n",
    "    q=[start]\n",
    "    visited=[]\n",
    "    while len(q)!=0:\n",
    "        ele=q.pop(0)\n",
    "        print(ele)\n",
    "        for i in graph[ele]:\n",
    "            if i not in visited:\n",
    "                q.append(i)\n",
    "                visited.append(i)\n",
    "            \n",
    "        \n",
    "graph_elements={\n",
    "    \"a\":[\"b\",\"c\"],\n",
    "    \"b\":[\"a\",\"d\"],\n",
    "    \"c\":[\"a\",\"d\"],\n",
    "    \"d\":[\"e\"],\n",
    "    \"e\":[\"d\"]\n",
    "}    \n",
    "BFS(graph_elements,\"c\")"
   ]
  },
  {
   "cell_type": "raw",
   "id": "e02e49be",
   "metadata": {},
   "source": [
    "4\n",
    "a->b\n",
    "b->c\n",
    "c->d\n",
    "c->e\n",
    "a->d #destination\n",
    "a->b->c->d #path\n",
    "otherwise\n",
    "Invalid"
   ]
  },
  {
   "cell_type": "raw",
   "id": "977c6aef",
   "metadata": {},
   "source": [
    "Hault\n",
    "Exploration"
   ]
  }
 ],
 "metadata": {
  "kernelspec": {
   "display_name": "Python 3 (ipykernel)",
   "language": "python",
   "name": "python3"
  },
  "language_info": {
   "codemirror_mode": {
    "name": "ipython",
    "version": 3
   },
   "file_extension": ".py",
   "mimetype": "text/x-python",
   "name": "python",
   "nbconvert_exporter": "python",
   "pygments_lexer": "ipython3",
   "version": "3.9.7"
  }
 },
 "nbformat": 4,
 "nbformat_minor": 5
}
