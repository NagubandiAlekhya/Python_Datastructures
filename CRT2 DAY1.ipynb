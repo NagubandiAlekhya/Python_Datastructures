{
 "cells": [
  {
   "cell_type": "markdown",
   "id": "6593f3a1",
   "metadata": {},
   "source": [
    "# Data Structures"
   ]
  },
  {
   "cell_type": "markdown",
   "id": "51b7ba6e",
   "metadata": {},
   "source": [
    "# Stacks"
   ]
  },
  {
   "cell_type": "raw",
   "id": "4c6d3024",
   "metadata": {},
   "source": [
    "single sided\\open ended datastructure where insertion and deletion is done at one end"
   ]
  },
  {
   "cell_type": "raw",
   "id": "2c0d5e65",
   "metadata": {},
   "source": [
    "LIFO eg:cd stand,set of chairs"
   ]
  },
  {
   "cell_type": "code",
   "execution_count": 5,
   "id": "6488f7f0",
   "metadata": {},
   "outputs": [
    {
     "name": "stdout",
     "output_type": "stream",
     "text": [
      "[10, 20, 30, 40]\n"
     ]
    }
   ],
   "source": [
    "#stack traditional method\n",
    "class Stack:\n",
    "    arr=[]\n",
    "    size=5\n",
    "    def stack_push(self,element):\n",
    "        self.arr.append(element)\n",
    "    def stack_pop(self):\n",
    "        self.arr.pop()\n",
    "    def stack_peek(self):\n",
    "        return self.arr[-1]\n",
    "    def isEmpty(self):\n",
    "        if(len(self.arr)==0):\n",
    "            return True\n",
    "        else:\n",
    "            return False\n",
    "s=Stack()\n",
    "s.stack_push(10)\n",
    "s.stack_push(20)\n",
    "s.stack_push(30)\n",
    "s.stack_push(40)\n",
    "print(s.arr)\n",
    "\n",
    "    \n",
    "    \n",
    "    "
   ]
  },
  {
   "cell_type": "code",
   "execution_count": 6,
   "id": "bc9f1c0e",
   "metadata": {},
   "outputs": [
    {
     "name": "stdout",
     "output_type": "stream",
     "text": [
      "[10, 20]\n"
     ]
    }
   ],
   "source": [
    "#stack traditional method\n",
    "class Stack:\n",
    "    arr=[]\n",
    "    size=5\n",
    "    def stack_push(self,element):\n",
    "        self.arr.append(element)\n",
    "    def stack_pop(self):\n",
    "        self.arr.pop()\n",
    "    def stack_peek(self):\n",
    "        return self.arr[-1]\n",
    "    def isEmpty(self):\n",
    "        if(len(self.arr)==0):\n",
    "            return True\n",
    "        else:\n",
    "            return False\n",
    "s=Stack()\n",
    "s.stack_push(10)\n",
    "s.stack_push(20)\n",
    "s.stack_push(30)\n",
    "s.stack_push(40)\n",
    "s.stack_pop()\n",
    "s.stack_pop()\n",
    "print(s.arr) "
   ]
  },
  {
   "cell_type": "code",
   "execution_count": 9,
   "id": "6dafa3be",
   "metadata": {},
   "outputs": [
    {
     "name": "stdout",
     "output_type": "stream",
     "text": [
      "20\n",
      "[10, 20]\n"
     ]
    }
   ],
   "source": [
    "#stack traditional method\n",
    "class Stack:\n",
    "    arr=[]\n",
    "    size=5\n",
    "    def stack_push(self,element):\n",
    "        self.arr.append(element)\n",
    "    def stack_pop(self):\n",
    "        self.arr.pop()\n",
    "    def stack_peek(self):\n",
    "        return self.arr[-1]\n",
    "    def isEmpty(self):\n",
    "        if(len(self.arr)==0):\n",
    "            return True\n",
    "        else:\n",
    "            return False\n",
    "s=Stack()\n",
    "s.stack_push(10)\n",
    "s.stack_push(20)\n",
    "s.stack_push(30)\n",
    "s.stack_push(40)\n",
    "s.stack_pop()\n",
    "s.stack_pop()\n",
    "print(s.stack_peek())\n",
    "print(s.arr)"
   ]
  },
  {
   "cell_type": "code",
   "execution_count": 1,
   "id": "c423dd22",
   "metadata": {},
   "outputs": [
    {
     "name": "stdout",
     "output_type": "stream",
     "text": [
      "stack is overflow\n",
      "[10, 20, 30, 40, 50]\n",
      "50\n"
     ]
    }
   ],
   "source": [
    "#stack traditional method\n",
    "class Stack:\n",
    "    arr=[]\n",
    "    size=5\n",
    "    def stack_push(self,element):\n",
    "        if len(self.arr)==self.size:\n",
    "            print(\"stack is overflow\")\n",
    "        else: \n",
    "            self.arr.append(element)\n",
    "    def stack_pop(self):\n",
    "        if len(self.arr)==0:\n",
    "            print(\"stack is underflow\")\n",
    "        else:\n",
    "            self.arr.pop()\n",
    "    def stack_peek(self):\n",
    "        if len(self.arr)==0:\n",
    "            return \"stack is empty\"\n",
    "        else:\n",
    "            return self.arr[-1]\n",
    "\n",
    "    def isEmpty(self):\n",
    "        if(len(self.arr)==0):\n",
    "            return True\n",
    "        else:\n",
    "            return False\n",
    "\"\"\"\n",
    "    def isFull(self):\n",
    "        if(len(self.arr)==self.size):\n",
    "            return True\n",
    "        else:\n",
    "            return False\n",
    "\"\"\"\n",
    "            \n",
    "s=Stack()\n",
    "s.stack_push(10)\n",
    "s.stack_push(20)\n",
    "s.stack_push(30)\n",
    "s.stack_push(40)\n",
    "s.stack_push(50)\n",
    "s.stack_push(60)\n",
    "print(s.arr)\n",
    "print(s.stack_peek())"
   ]
  },
  {
   "cell_type": "code",
   "execution_count": 2,
   "id": "961c0d68",
   "metadata": {},
   "outputs": [
    {
     "name": "stdout",
     "output_type": "stream",
     "text": [
      "stack is overflow\n",
      "[10, 20, 30, 40, 50]\n",
      "50\n"
     ]
    }
   ],
   "source": [
    "#stack traditional method\n",
    "class Stack:\n",
    "    arr=[]\n",
    "    size=5\n",
    "    def stack_push(self,element):\n",
    "        if len(self.arr)==self.size:\n",
    "            print(\"stack is overflow\")\n",
    "        else: \n",
    "            self.arr.append(element)\n",
    "    def stack_pop(self):\n",
    "        if len(self.arr)==0:\n",
    "            print(\"stack is underflow\")\n",
    "        else:\n",
    "            self.arr.pop()\n",
    "    def stack_peek(self):\n",
    "        if len(self.arr)==0:\n",
    "            return \"stack is empty\"\n",
    "        else:\n",
    "            return self.arr[-1]\n",
    "           \n",
    "s=Stack()\n",
    "s.stack_push(10)\n",
    "s.stack_push(20)\n",
    "s.stack_push(30)\n",
    "s.stack_push(40)\n",
    "s.stack_push(50)\n",
    "s.stack_push(60)\n",
    "print(s.arr)\n",
    "print(s.stack_peek())"
   ]
  },
  {
   "cell_type": "code",
   "execution_count": 36,
   "id": "b5d7ef38",
   "metadata": {},
   "outputs": [
    {
     "name": "stdout",
     "output_type": "stream",
     "text": [
      "[10, 20, 30, 40, 50]\n",
      "[10, 20, 30]\n",
      "30\n"
     ]
    }
   ],
   "source": [
    "#stack traditional method\n",
    "class Stack:\n",
    "    arr=[]\n",
    "    size=5\n",
    "    def stack_push(self,element):\n",
    "        if len(self.arr)==self.size:\n",
    "            print(\"stack is overflow\")\n",
    "        else: \n",
    "            self.arr.append(element)\n",
    "    def stack_pop(self):\n",
    "        if len(self.arr)==0:\n",
    "            print(\"stack is underflow\")\n",
    "        else:\n",
    "            self.arr.pop()\n",
    "    def stack_peek(self):\n",
    "        if len(self.arr)==0:\n",
    "            return \"stack is empty\"\n",
    "        else:\n",
    "            return self.arr[-1]            \n",
    "s=Stack()\n",
    "s.stack_push(10)\n",
    "s.stack_push(20)\n",
    "s.stack_push(30)\n",
    "s.stack_push(40)\n",
    "s.stack_push(50)\n",
    "print(s.arr)\n",
    "s.stack_pop()\n",
    "s.stack_pop()\n",
    "print(s.arr)\n",
    "print(s.stack_peek())"
   ]
  },
  {
   "cell_type": "code",
   "execution_count": 45,
   "id": "aa90d7b0",
   "metadata": {},
   "outputs": [
    {
     "name": "stdout",
     "output_type": "stream",
     "text": [
      "[10, 20, 30, 40, 50]\n",
      "[30, 20, 10]\n",
      "10\n"
     ]
    }
   ],
   "source": [
    "class Stack:\n",
    "    arr=[]\n",
    "    size=5\n",
    "    def stack_push(self,element):\n",
    "        if len(self.arr)==self.size:\n",
    "            print(\"stack is overflow\")\n",
    "        else: \n",
    "            self.arr.append(element)\n",
    "    def stack_pop(self):\n",
    "        if len(self.arr)==0:\n",
    "            print(\"stack is underflow\")\n",
    "        else:\n",
    "            self.arr.pop()\n",
    "    def stack_peek(self):\n",
    "        if len(self.arr)==0:\n",
    "            return \"stack is empty\"\n",
    "        else:\n",
    "            return self.arr[-1]\n",
    "\n",
    "s=Stack()\n",
    "s.stack_push(10)\n",
    "s.stack_push(20)\n",
    "s.stack_push(30)\n",
    "s.stack_push(40)\n",
    "s.stack_push(50)\n",
    "print(s.arr)\n",
    "s.stack_pop()\n",
    "s.stack_pop()\n",
    "s.arr.sort(reverse=True)\n",
    "print(s.arr)\n",
    "print(s.stack_peek())"
   ]
  },
  {
   "cell_type": "code",
   "execution_count": 60,
   "id": "9d3777ea",
   "metadata": {},
   "outputs": [
    {
     "name": "stdout",
     "output_type": "stream",
     "text": [
      "[10, 20, 30, 40, 50]\n",
      "50\n",
      "[10, 20, 30, 40, 50]\n",
      "50\n"
     ]
    }
   ],
   "source": [
    "class Stack:\n",
    "    arr=[]\n",
    "    size=5\n",
    "    def stack_push(self,element):\n",
    "        if len(self.arr)==self.size:\n",
    "            print(\"stack is overflow\")\n",
    "        else: \n",
    "            self.arr.append(element)\n",
    "    def stack_pop(self):\n",
    "        if len(self.arr)==0:\n",
    "            print(\"stack is underflow\")\n",
    "        else:\n",
    "            return self.arr.pop()\n",
    "    def stack_peek(self):\n",
    "        if len(self.arr)==0:\n",
    "            return \"stack is empty\"\n",
    "        else:\n",
    "            return self.arr[-1]\n",
    "            \n",
    "s1=Stack()\n",
    "s2=Stack()\n",
    "s1.stack_push(10)\n",
    "s1.stack_push(20)\n",
    "s1.stack_push(30)\n",
    "s1.stack_push(40)\n",
    "s1.stack_push(50)\n",
    "#s1.printStack()\n",
    "print(s1.arr)\n",
    "print(s1.stack_peek())\n",
    "s2.stack_push(s1.stack_pop())\n",
    "s2.stack_push(s1.stack_pop())\n",
    "s2.stack_push(s1.stack_pop())\n",
    "s2.stack_push(s1.stack_pop())\n",
    "s2.stack_push(s1.stack_pop())\n",
    "#s2.printStack()\n",
    "print(s2.arr)\n",
    "#print(s1.arr)\n",
    "print(s2.stack_peek())"
   ]
  },
  {
   "cell_type": "code",
   "execution_count": 70,
   "id": "108295fe",
   "metadata": {},
   "outputs": [
    {
     "name": "stdout",
     "output_type": "stream",
     "text": [
      "[1, 2, 3, 4, 5]\n",
      "[3, 4, 5]\n",
      "5\n"
     ]
    }
   ],
   "source": [
    "#QUEUE Implementation\n",
    "class Queue:\n",
    "    arr=[]\n",
    "    size=5\n",
    "    def enqueue_push(self,element):\n",
    "        if len(self.arr)==self.size:\n",
    "            print(\"stack is overflow\")\n",
    "        else: \n",
    "            self.arr.append(element)\n",
    "    def dequeue_pop(self):\n",
    "        if len(self.arr)==0:\n",
    "            print(\"queue is underflow\")\n",
    "        else:\n",
    "            return self.arr.pop(0)\n",
    "    def queue_peek(self):\n",
    "        if len(self.arr)==0:\n",
    "            return \"queue is empty\"\n",
    "        else:\n",
    "            return self.arr[-1]\n",
    "\n",
    "q=Queue()\n",
    "q.enqueue_push(1)\n",
    "q.enqueue_push(2)\n",
    "q.enqueue_push(3)\n",
    "q.enqueue_push(4)\n",
    "q.enqueue_push(5)\n",
    "print(q.arr)\n",
    "q.dequeue_pop()\n",
    "q.dequeue_pop()\n",
    "print(q.arr)   \n",
    "print(q.queue_peek())"
   ]
  },
  {
   "cell_type": "code",
   "execution_count": null,
   "id": "92906540",
   "metadata": {},
   "outputs": [],
   "source": [
    "#1.implement a queue\n",
    "#2.implement the functionality of a stack using only queues"
   ]
  },
  {
   "cell_type": "code",
   "execution_count": 71,
   "id": "fa9d4d3d",
   "metadata": {},
   "outputs": [
    {
     "name": "stdout",
     "output_type": "stream",
     "text": [
      "queue is underflow\n",
      "[]\n",
      "queue is empty\n"
     ]
    }
   ],
   "source": [
    "class Queue:\n",
    "    arr=[]\n",
    "    size=5\n",
    "    def enqueue_push(self,element):\n",
    "        if len(self.arr)==self.size:\n",
    "            print(\"stack is overflow\")\n",
    "        else: \n",
    "            self.arr.append(element)\n",
    "    def dequeue_pop(self):\n",
    "        if len(self.arr)==0:\n",
    "            print(\"queue is underflow\")\n",
    "        else:\n",
    "            return self.arr.pop(0)\n",
    "    def queue_peek(self):\n",
    "        if len(self.arr)==0:\n",
    "            return \"queue is empty\"\n",
    "        else:\n",
    "            return self.arr[-1]\n",
    "\n",
    "q=Queue()\n",
    "\"\"\"\"\n",
    "q.enqueue_push(1)\n",
    "q.enqueue_push(2)\n",
    "q.enqueue_push(3)\n",
    "q.enqueue_push(4)\n",
    "q.enqueue_push(5)\n",
    "print(q.arr)\n",
    "q.dequeue_pop()\n",
    "\"\"\"\n",
    "q.dequeue_pop()\n",
    "print(q.arr)   \n",
    "print(q.queue_peek())"
   ]
  },
  {
   "cell_type": "code",
   "execution_count": 73,
   "id": "27d17b0c",
   "metadata": {},
   "outputs": [
    {
     "name": "stdout",
     "output_type": "stream",
     "text": [
      "[1, 2, 3, 4, 5]\n",
      "[1, 2, 3]\n",
      "3\n"
     ]
    }
   ],
   "source": [
    "class Queue:\n",
    "    arr=[]\n",
    "    size=5\n",
    "    def enqueue_push(self,element):\n",
    "        if len(self.arr)==self.size:\n",
    "            print(\"stack is overflow\")\n",
    "        else: \n",
    "            self.arr.append(element)\n",
    "    def dequeue_pop(self):\n",
    "        if len(self.arr)==0:\n",
    "            print(\"queue is underflow\")\n",
    "        else:\n",
    "            return self.arr.pop()#for converting queue to stack\n",
    "    def queue_peek(self):\n",
    "        if len(self.arr)==0:\n",
    "            return \"queue is empty\"\n",
    "        else:\n",
    "            return self.arr[-1]\n",
    "\n",
    "q=Queue()\n",
    "q.enqueue_push(1)\n",
    "q.enqueue_push(2)\n",
    "q.enqueue_push(3)\n",
    "q.enqueue_push(4)\n",
    "q.enqueue_push(5)\n",
    "print(q.arr)\n",
    "q.dequeue_pop()\n",
    "q.dequeue_pop()\n",
    "print(q.arr)   \n",
    "print(q.queue_peek())"
   ]
  },
  {
   "cell_type": "code",
   "execution_count": null,
   "id": "e1fe4a39",
   "metadata": {},
   "outputs": [],
   "source": [
    "class Stack:\n",
    "    arr=[]\n",
    "    size=5\n",
    "    def stack_push(self,element):\n",
    "        if len(self.arr)==self.size:\n",
    "            print(\"stack is overflow\")\n",
    "        else: \n",
    "            self.arr.append(element)\n",
    "    def stack_pop(self):\n",
    "        if len(self.arr)==0:\n",
    "            print(\"stack is underflow\")\n",
    "        else:\n",
    "            return self.arr.pop()\n",
    "    def stack_peek(self):\n",
    "        if len(self.arr)==0:\n",
    "            return \"stack is empty\"\n",
    "        else:\n",
    "            return self.arr[-1]\n",
    "            \n",
    "s1=Stack()\n",
    "s2=Stack()\n",
    "s1.stack_push(10)\n",
    "s1.stack_push(20)\n",
    "s1.stack_push(30)\n",
    "s1.stack_push(40)\n",
    "s1.stack_push(50)\n",
    "#s1.printStack()\n",
    "print(s1.arr)\n",
    "print(s1.stack_peek())\n",
    "s2.stack_push(s1.stack_pop())\n",
    "s2.stack_push(s1.stack_pop())\n",
    "s2.stack_push(s1.stack_pop())\n",
    "s2.stack_push(s1.stack_pop())\n",
    "s2.stack_push(s1.stack_pop())\n",
    "#s2.printStack()\n",
    "print(s2.arr)\n",
    "#print(s1.arr)\n",
    "print(s2.stack_peek())"
   ]
  },
  {
   "cell_type": "code",
   "execution_count": 13,
   "id": "2e79c388",
   "metadata": {},
   "outputs": [
    {
     "name": "stdout",
     "output_type": "stream",
     "text": [
      "[50, 40, 30, 20, 10]\n"
     ]
    }
   ],
   "source": [
    "#Functionality of a stack using queues\n",
    "class Queue:\n",
    "    def __init__(self):\n",
    "        self.temp=[]\n",
    "        self.original=[]\n",
    "    def enqueue(self,ele):\n",
    "        self.temp.append(ele) #step1\n",
    "        while len(self.original)!=0: #step2\n",
    "            pop_ele=self.original.pop(0)\n",
    "            self.temp.append(pop_ele)\n",
    "        while len(self.temp)!=0: #step3\n",
    "            pop_ele=self.temp.pop(0)\n",
    "            self.original.append(pop_ele)\n",
    "    def dequeue(self):\n",
    "        return self.original.pop(0)\n",
    "    def printQueue(self):\n",
    "        print(\"Temp: \",self.temp)\n",
    "        print(\"Original: \",self.original)\n",
    "\n",
    "ob=Queue()\n",
    "ob.enqueue(10)\n",
    "ob.enqueue(20)\n",
    "ob.enqueue(30)\n",
    "ob.enqueue(40)\n",
    "ob.enqueue(50)\n",
    "print(ob.original)"
   ]
  },
  {
   "cell_type": "code",
   "execution_count": 38,
   "id": "3c0d267f",
   "metadata": {},
   "outputs": [
    {
     "name": "stdout",
     "output_type": "stream",
     "text": [
      "1\n",
      "1 not found\n",
      "1 is found\n",
      "1 not found\n",
      "1 not found\n",
      "1 not found\n",
      "1 not found\n"
     ]
    }
   ],
   "source": [
    "arr=[0,1,2,3,4,5]\n",
    "key=int(input())\n",
    "for i in arr:\n",
    "    if arr[i]==key:\n",
    "        print(key,\"is found\")\n",
    "    else:\n",
    "        print(key,\"not found\")"
   ]
  },
  {
   "cell_type": "code",
   "execution_count": 40,
   "id": "4769d332",
   "metadata": {},
   "outputs": [
    {
     "name": "stdout",
     "output_type": "stream",
     "text": [
      "2\n",
      "2 is found\n"
     ]
    }
   ],
   "source": [
    "arr=[0,1,2,3,4,5]\n",
    "key=int(input())\n",
    "for i in arr:\n",
    "    if arr[i]==key:\n",
    "        print(key,\"is found\")"
   ]
  },
  {
   "cell_type": "code",
   "execution_count": 39,
   "id": "1231c98a",
   "metadata": {},
   "outputs": [
    {
     "name": "stdout",
     "output_type": "stream",
     "text": [
      "3\n",
      "3 is found\n"
     ]
    }
   ],
   "source": [
    "arr=[1,2,3,4,5]\n",
    "key=int(input())\n",
    "for i in range(len(arr)):\n",
    "    if arr[i]==key:\n",
    "        print(key,\"is found\")\n",
    "    "
   ]
  },
  {
   "cell_type": "raw",
   "id": "99bd53b1",
   "metadata": {},
   "source": [
    "Master theorem is used to calculate time complexities"
   ]
  },
  {
   "cell_type": "raw",
   "id": "87a58a1f",
   "metadata": {},
   "source": [
    "Implement linear search in a stack"
   ]
  },
  {
   "cell_type": "code",
   "execution_count": null,
   "id": "ac7c5809",
   "metadata": {},
   "outputs": [],
   "source": [
    "#implement linear search in a stack\n",
    "class Stack:\n",
    "    arr=[]\n",
    "    size=5\n",
    "    def stack_push(self,element):\n",
    "        if len(self.arr)==self.size:\n",
    "            print(\"stack is overflow\")\n",
    "        else: \n",
    "            self.arr.append(element)\n",
    "    def stack_pop(self):\n",
    "        if len(self.arr)==0:\n",
    "            print(\"stack is underflow\")\n",
    "        else:\n",
    "            self.arr.pop()\n",
    "    def stack_peek(self):\n",
    "        if len(self.arr)==0:\n",
    "            return \"stack is empty\"\n",
    "        else:\n",
    "            return self.arr[-1]\n",
    "\n",
    "s=Stack()\n",
    "s.stack_push(10)\n",
    "s.stack_push(20)\n",
    "s.stack_push(30)\n",
    "s.stack_push(40)\n",
    "s.stack_push(50)\n",
    "for i in range(len(s.arr)):\n",
    "    if arr[s]==key:\n",
    "        print(key,\"is found\")\n"
   ]
  },
  {
   "cell_type": "code",
   "execution_count": 49,
   "id": "35abb848",
   "metadata": {},
   "outputs": [
    {
     "name": "stdout",
     "output_type": "stream",
     "text": [
      "Guess:25\n",
      "25 greater than the actual number\n",
      "Guess:15\n",
      "15 smaller than the actual number\n",
      "Guess:20\n",
      "20 smaller than the actual number\n",
      "Guess:23\n",
      "23 greater than the actual number\n",
      "Guess:21\n",
      "you won!\n",
      "number is 21\n"
     ]
    }
   ],
   "source": [
    "from random import randint\n",
    "number=randint(1,50)\n",
    "chance=5\n",
    "while chance!=0:\n",
    "    n=int(input(\"Guess:\"))\n",
    "    if n==number:\n",
    "        print(\"you won!\")\n",
    "        break\n",
    "    elif n<number:\n",
    "        print(n,\"smaller than the actual number\")\n",
    "    elif n>number:\n",
    "        print(n,\"greater than the actual number\")\n",
    "    chance-=1\n",
    "print(\"number is\",number)"
   ]
  },
  {
   "cell_type": "code",
   "execution_count": 51,
   "id": "6fceb5a4",
   "metadata": {},
   "outputs": [],
   "source": [
    "# Binary search"
   ]
  },
  {
   "cell_type": "code",
   "execution_count": 55,
   "id": "14f9d8c7",
   "metadata": {},
   "outputs": [
    {
     "name": "stdout",
     "output_type": "stream",
     "text": [
      "[1, 2, 3, 4, 5, 6, 7, 8, 9, 10]\n",
      "element found at index number 2\n"
     ]
    }
   ],
   "source": [
    "arr=[i for i in range(1,11)]\n",
    "print(arr)\n",
    "key=3\n",
    "low=0\n",
    "high=len(arr)-1\n",
    "found=False\n",
    "while low<=high:\n",
    "    mid=(low+high)//2\n",
    "    if arr[mid]==key:\n",
    "        print(\"element found at index number\",mid)\n",
    "        found=True\n",
    "        break\n",
    "    elif key<arr[mid]:\n",
    "        high=mid-1\n",
    "    elif key>arr[mid]:\n",
    "        low=mid+1\n",
    "if not found:\n",
    "    print(\"element is not found\")\n",
    "            "
   ]
  },
  {
   "cell_type": "code",
   "execution_count": 67,
   "id": "5de961d0",
   "metadata": {},
   "outputs": [
    {
     "name": "stdout",
     "output_type": "stream",
     "text": [
      "[1, 2, 3, 4, 5, 6, 7, 8, 9, 10]\n",
      "element found at index number 7\n"
     ]
    }
   ],
   "source": [
    "#with recursion\n",
    "def binary_search(arr,low,high,key):\n",
    "    while low<=high:\n",
    "        mid=(low+high)//2\n",
    "        if arr[mid]==key:\n",
    "            print(\"element found at index number\",mid)\n",
    "            return\n",
    "        elif key<arr[mid]:\n",
    "            high=mid-1\n",
    "            return binary_search(arr,low,high,key)\n",
    "        elif key>arr[mid]:\n",
    "            low=mid+1\n",
    "            return binary_search(arr,low,high,key)\n",
    "        else:\n",
    "            return \"not found\"\n",
    "arr=[i for i in range(1,11)]\n",
    "print(arr)\n",
    "key=8\n",
    "low=0\n",
    "high=len(arr)-1       \n",
    "binary_search(arr,low,high,key) \n",
    "    "
   ]
  }
 ],
 "metadata": {
  "kernelspec": {
   "display_name": "Python 3 (ipykernel)",
   "language": "python",
   "name": "python3"
  },
  "language_info": {
   "codemirror_mode": {
    "name": "ipython",
    "version": 3
   },
   "file_extension": ".py",
   "mimetype": "text/x-python",
   "name": "python",
   "nbconvert_exporter": "python",
   "pygments_lexer": "ipython3",
   "version": "3.9.7"
  }
 },
 "nbformat": 4,
 "nbformat_minor": 5
}
